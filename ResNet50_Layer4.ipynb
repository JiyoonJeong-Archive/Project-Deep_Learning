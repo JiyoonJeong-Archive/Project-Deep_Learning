{
  "nbformat": 4,
  "nbformat_minor": 0,
  "metadata": {
    "colab": {
      "provenance": [],
      "gpuType": "T4",
      "mount_file_id": "1_f5oMfOSo6y4a44lyVVf_sncxzxjGOa4",
      "authorship_tag": "ABX9TyPGe6AMLA+y0GPSobVsfk54"
    },
    "kernelspec": {
      "name": "python3",
      "display_name": "Python 3"
    },
    "language_info": {
      "name": "python"
    },
    "accelerator": "GPU"
  },
  "cells": [
    {
      "cell_type": "markdown",
      "source": [
        "#ResNet50-Layer4"
      ],
      "metadata": {
        "id": "ecxThuhGD2cs"
      }
    },
    {
      "cell_type": "code",
      "execution_count": null,
      "metadata": {
        "id": "5HoZSR1f-J5w"
      },
      "outputs": [],
      "source": [
        "import torch.nn as nn\n",
        "\n",
        "# 1x1 convolution\n",
        "def conv1x1(in_channels, out_channels, stride, padding):\n",
        "    model = nn.Sequential(\n",
        "        nn.Conv2d(in_channels, out_channels, kernel_size=1, stride=stride, padding=padding),\n",
        "        nn.BatchNorm2d(out_channels),\n",
        "        nn.ReLU(inplace=True)\n",
        "    )\n",
        "    return model\n",
        "\n",
        "\n",
        "# 3x3 convolution\n",
        "def conv3x3(in_channels, out_channels, stride, padding):\n",
        "    model = nn.Sequential(\n",
        "        nn.Conv2d(in_channels, out_channels, kernel_size=3, stride=stride, padding=padding),\n",
        "        nn.BatchNorm2d(out_channels),\n",
        "        nn.ReLU(inplace=True)\n",
        "    )\n",
        "    return model"
      ]
    },
    {
      "cell_type": "code",
      "source": [
        "# bottle neck building block\n",
        "class ResidualBlock(nn.Module):\n",
        "    def __init__(self, in_channels, middle_channels, out_channels, downsample=False):\n",
        "        super(ResidualBlock, self).__init__()\n",
        "        self.downsample = downsample\n",
        "\n",
        "        if self.downsample:\n",
        "            self.layer = nn.Sequential(\n",
        "                conv1x1(in_channels, middle_channels, 2, 0),\n",
        "                conv3x3(middle_channels, middle_channels, 1, 1),\n",
        "                conv1x1(middle_channels, out_channels, 1, 0)\n",
        "            )\n",
        "            self.downsize = conv1x1(in_channels, out_channels, 2, 0)\n",
        "\n",
        "        else:\n",
        "            self.layer = nn.Sequential(\n",
        "                conv1x1(in_channels, middle_channels, 1, 0),\n",
        "                conv3x3(middle_channels, middle_channels, 1, 1),\n",
        "                conv1x1(middle_channels, out_channels, 1, 0)\n",
        "            )\n",
        "            self.make_equal_channel = conv1x1(in_channels, out_channels, 1, 0)\n",
        "\n",
        "    def forward(self, x):\n",
        "        if self.downsample:\n",
        "            out = self.layer(x)\n",
        "            x = self.downsize(x)\n",
        "            return out + x\n",
        "        else:\n",
        "            out = self.layer(x)\n",
        "            if x.size() is not out.size():\n",
        "                x = self.make_equal_channel(x)\n",
        "            return out + x"
      ],
      "metadata": {
        "id": "g8MJTct1-Rjk"
      },
      "execution_count": null,
      "outputs": []
    },
    {
      "cell_type": "code",
      "source": [
        "class ResNet50_layer4(nn.Module):\n",
        "    def __init__(self, num_classes=10):  # Cifar-10's number of classes : 10\n",
        "        super(ResNet50_layer4, self).__init__()\n",
        "\n",
        "        self.layer1 = nn.Sequential(\n",
        "            nn.Conv2d(3, 64, 7, 2, 3),\n",
        "            nn.BatchNorm2d(64),\n",
        "            nn.ReLU(inplace=True),\n",
        "            nn.MaxPool2d(3, 2, 1)\n",
        "        )\n",
        "        self.layer2 = nn.Sequential(\n",
        "            ResidualBlock(64, 64, 256),\n",
        "            ResidualBlock(256, 64, 256),\n",
        "            ResidualBlock(256, 64, 256, downsample=True)\n",
        "        )\n",
        "        self.layer3 = nn.Sequential(\n",
        "            ResidualBlock(256, 128, 512),\n",
        "            ResidualBlock(512, 128, 512),\n",
        "            ResidualBlock(512, 128, 512),\n",
        "            ResidualBlock(512, 128, 512, downsample=True)\n",
        "        )\n",
        "        self.layer4 = nn.Sequential(\n",
        "            ResidualBlock(512, 256, 1024),\n",
        "            ResidualBlock(1024, 256, 1024),\n",
        "            ResidualBlock(1024, 256, 1024),\n",
        "            ResidualBlock(1024, 256, 1024),\n",
        "            ResidualBlock(1024, 256, 1024),\n",
        "            ResidualBlock(1024, 256, 1024)\n",
        "        )\n",
        "\n",
        "        self.fc = nn.Linear(1024, num_classes)\n",
        "        self.avgpool = nn.AvgPool2d(2, 1)\n",
        "\n",
        "        for m in self.modules():\n",
        "            if isinstance(m, nn.Linear):\n",
        "                nn.init.xavier_uniform_(m.weight.data)\n",
        "            elif isinstance(m, nn.Conv2d):\n",
        "                nn.init.xavier_uniform_(m.weight.data)\n",
        "\n",
        "    def forward(self, x):\n",
        "\n",
        "        out = self.layer1(x)\n",
        "        out = self.layer2(out)\n",
        "        out = self.layer3(out)\n",
        "        out = self.layer4(out)\n",
        "        out = self.avgpool(out)\n",
        "        out = out.view(out.size()[0], -1)\n",
        "        out = self.fc(out)\n",
        "\n",
        "        return out"
      ],
      "metadata": {
        "id": "UPngwAyn-Vvj"
      },
      "execution_count": null,
      "outputs": []
    },
    {
      "cell_type": "markdown",
      "source": [
        "#Main"
      ],
      "metadata": {
        "id": "PFtYzFvvDxXH"
      }
    },
    {
      "cell_type": "code",
      "execution_count": null,
      "metadata": {
        "id": "X1Qd8AjF_HZC"
      },
      "outputs": [],
      "source": [
        "import torch\n",
        "import torch.nn as nn\n",
        "import torchvision\n",
        "import torchvision.transforms as transforms\n",
        "\n",
        "# device = torch.device('cuda:0' if torch.cuda.is_available() else 'cpu')\n",
        "device = torch.device('cpu')\n",
        "\n",
        "# Image Preprocessing\n",
        "transform_train = transforms.Compose([\n",
        "    transforms.RandomCrop(32, padding=4),\n",
        "    transforms.RandomHorizontalFlip(),\n",
        "    transforms.ToTensor(),\n",
        "    transforms.Normalize((0.4914, 0.4822, 0.4465), (0.2023, 0.1994, 0.2010)),\n",
        "])\n",
        "\n",
        "transform_test = transforms.Compose([\n",
        "    transforms.ToTensor(),\n",
        "    transforms.Normalize((0.4914, 0.4822, 0.4465), (0.2023, 0.1994, 0.2010)),\n",
        "])"
      ]
    },
    {
      "cell_type": "code",
      "source": [
        "# CIFAR-10 Dataset\n",
        "train_dataset = torchvision.datasets.CIFAR10(root='../osproj/data/',\n",
        "                                             train=True,\n",
        "                                             transform=transform_train,\n",
        "                                             download=True) # Change Download-flag \"True\" at the first excution.\n",
        "\n",
        "test_dataset = torchvision.datasets.CIFAR10(root='../osproj/data/',\n",
        "                                            train=False,\n",
        "                                            transform=transform_test)\n",
        "\n",
        "\n",
        "# data loader / # batch_size\n",
        "train_loader = torch.utils.data.DataLoader(dataset=train_dataset,\n",
        "                                           batch_size=100,\n",
        "                                           shuffle=True)\n",
        "test_loader = torch.utils.data.DataLoader(dataset=test_dataset,\n",
        "                                          batch_size=100,\n",
        "                                          shuffle=False)"
      ],
      "metadata": {
        "colab": {
          "base_uri": "https://localhost:8080/"
        },
        "id": "13OGtuAn_Jp7",
        "outputId": "3ea041b7-7f17-4482-a169-7dceed9f6ddd"
      },
      "execution_count": null,
      "outputs": [
        {
          "output_type": "stream",
          "name": "stdout",
          "text": [
            "Downloading https://www.cs.toronto.edu/~kriz/cifar-10-python.tar.gz to ../osproj/data/cifar-10-python.tar.gz\n"
          ]
        },
        {
          "output_type": "stream",
          "name": "stderr",
          "text": [
            "100%|██████████| 170498071/170498071 [00:05<00:00, 29292817.16it/s]\n"
          ]
        },
        {
          "output_type": "stream",
          "name": "stdout",
          "text": [
            "Extracting ../osproj/data/cifar-10-python.tar.gz to ../osproj/data/\n"
          ]
        }
      ]
    },
    {
      "cell_type": "code",
      "source": [
        "# Choose model\n",
        "model = ResNet50_layer4().to(device)"
      ],
      "metadata": {
        "colab": {
          "base_uri": "https://localhost:8080/"
        },
        "id": "XuWyZlPr_NQU",
        "outputId": "033bc7b2-9afc-443b-a1ad-e1fc75af4476"
      },
      "execution_count": null,
      "outputs": [
        {
          "output_type": "execute_result",
          "data": {
            "text/plain": [
              "33"
            ]
          },
          "metadata": {},
          "execution_count": 19
        }
      ]
    },
    {
      "cell_type": "code",
      "source": [
        "# Train Model\n",
        "# Hyper-parameters\n",
        "num_epochs = 1  # students should train 1 epoch because they will use cpu\n",
        "learning_rate = 0.001\n",
        "\n",
        "# Loss and optimizer\n",
        "criterion = nn.CrossEntropyLoss()\n",
        "optimizer = torch.optim.Adam(model.parameters(), lr=learning_rate)\n",
        "\n",
        "# For updating learning rate\n",
        "def update_lr(optimizer, lr):\n",
        "    for param_group in optimizer.param_groups:\n",
        "        param_group['lr'] = lr\n",
        "\n",
        "# Train the model\n",
        "total_step = len(train_loader)\n",
        "current_lr = learning_rate\n",
        "\n",
        "for epoch in range(num_epochs):\n",
        "\n",
        "    model.train()\n",
        "    train_loss = 0\n",
        "\n",
        "    for batch_index, (images, labels) in enumerate(train_loader):\n",
        "        # print(images.shape)\n",
        "        images = images.to(device)  # \"images\" = \"inputs\"\n",
        "        labels = labels.to(device)  # \"labels\" = \"targets\"\n",
        "\n",
        "        # Forward pass\n",
        "        outputs = model(images)\n",
        "        loss = criterion(outputs, labels)\n",
        "\n",
        "        # Backward and optimize\n",
        "        optimizer.zero_grad()\n",
        "        loss.backward()\n",
        "        optimizer.step()\n",
        "\n",
        "        train_loss += loss.item()\n",
        "\n",
        "        if (batch_index + 1) % 100 == 0:\n",
        "            print(\"Epoch [{}/{}], Step [{}/{}] Loss: {:.4f}\"\n",
        "                  .format(epoch + 1, num_epochs, batch_index + 1, total_step, train_loss / (batch_index + 1)))\n",
        "\n",
        "    # Decay learning rate\n",
        "    if (epoch + 1) % 20 == 0:\n",
        "        current_lr /= 3\n",
        "        update_lr(optimizer, current_lr)\n",
        "        torch.save(model.state_dict(), './resnet50_epoch' + str(epoch+1)+'.ckpt')"
      ],
      "metadata": {
        "colab": {
          "base_uri": "https://localhost:8080/"
        },
        "id": "CqlS3Fzt_O0b",
        "outputId": "aac1d4d6-f0fb-4561-d412-76db7721c8c7"
      },
      "execution_count": null,
      "outputs": [
        {
          "output_type": "stream",
          "name": "stdout",
          "text": [
            "Epoch [1/1], Step [100/500] Loss: 2.3173\n",
            "Epoch [1/1], Step [200/500] Loss: 2.1453\n",
            "Epoch [1/1], Step [300/500] Loss: 2.0377\n",
            "Epoch [1/1], Step [400/500] Loss: 1.9738\n",
            "Epoch [1/1], Step [500/500] Loss: 1.9515\n"
          ]
        }
      ]
    },
    {
      "cell_type": "code",
      "source": [
        "# Save the model checkpoint\n",
        "torch.save(model.state_dict(), './resnet50_final.ckpt')\n",
        "\n",
        "model.eval() # set model to evaluation mode\n",
        "with torch.no_grad(): # reduce memory usage and speed up computations\n",
        "    correct = 0\n",
        "    total = 0\n",
        "    for images, labels in test_loader:\n",
        "        images = images.to(device)\n",
        "        labels = labels.to(device)\n",
        "        outputs = model(images) # don't packpropagate loss in test\n",
        "        _, predicted = torch.max(outputs.data, 1)\n",
        "        total += labels.size(0)\n",
        "        correct += (predicted == labels).sum().item()\n",
        "\n",
        "    print('Accuracy of the model on the test images: {} %'.format(100 * correct / total))"
      ],
      "metadata": {
        "colab": {
          "base_uri": "https://localhost:8080/"
        },
        "id": "NZ4ygW5l_RW8",
        "outputId": "8f90452f-cdfa-4177-f574-37ddcd5a5c79"
      },
      "execution_count": null,
      "outputs": [
        {
          "output_type": "stream",
          "name": "stdout",
          "text": [
            "Accuracy of the model on the test images: 38.89 %\n"
          ]
        }
      ]
    }
  ]
}